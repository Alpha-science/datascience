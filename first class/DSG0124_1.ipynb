{
 "cells": [
  {
   "cell_type": "code",
   "execution_count": 4,
   "id": "db56e6b1",
   "metadata": {},
   "outputs": [
    {
     "name": "stdout",
     "output_type": "stream",
     "text": [
      "hello world\n"
     ]
    }
   ],
   "source": [
    "print(\"hello world\")"
   ]
  },
  {
   "cell_type": "code",
   "execution_count": 6,
   "id": "910ca5d8",
   "metadata": {},
   "outputs": [
    {
     "name": "stdout",
     "output_type": "stream",
     "text": [
      "prashant singh\n"
     ]
    }
   ],
   "source": [
    "print('prashant singh')"
   ]
  },
  {
   "cell_type": "code",
   "execution_count": 7,
   "id": "d432fccc",
   "metadata": {},
   "outputs": [
    {
     "data": {
      "text/plain": [
       "50"
      ]
     },
     "execution_count": 7,
     "metadata": {},
     "output_type": "execute_result"
    }
   ],
   "source": [
    "20+30"
   ]
  },
  {
   "cell_type": "code",
   "execution_count": 8,
   "id": "278a4847",
   "metadata": {},
   "outputs": [
    {
     "data": {
      "text/plain": [
       "96"
      ]
     },
     "execution_count": 8,
     "metadata": {},
     "output_type": "execute_result"
    }
   ],
   "source": [
    "12*8"
   ]
  },
  {
   "cell_type": "code",
   "execution_count": 9,
   "id": "0bb7832a",
   "metadata": {},
   "outputs": [
    {
     "data": {
      "text/plain": [
       "-5"
      ]
     },
     "execution_count": 9,
     "metadata": {},
     "output_type": "execute_result"
    }
   ],
   "source": [
    "24-29"
   ]
  },
  {
   "cell_type": "code",
   "execution_count": 10,
   "id": "cf61dd59",
   "metadata": {},
   "outputs": [
    {
     "data": {
      "text/plain": [
       "5.0"
      ]
     },
     "execution_count": 10,
     "metadata": {},
     "output_type": "execute_result"
    }
   ],
   "source": [
    "25/5"
   ]
  },
  {
   "cell_type": "code",
   "execution_count": null,
   "id": "7b066815",
   "metadata": {},
   "outputs": [],
   "source": [
    "to add the cell above the current cell-ESC+A                           \n",
    "to add the cell above the current cell-ESA+B\n",
    "to execute/run the cell/code-ctrl+enter\n",
    "to delete the cell-ESC+D+D "
   ]
  },
  {
   "cell_type": "markdown",
   "id": "df00690f",
   "metadata": {},
   "source": [
    "Hello Batc"
   ]
  },
  {
   "cell_type": "markdown",
   "id": "ec494b0c",
   "metadata": {},
   "source": [
    "Python, SQL, Machine Learing\n",
    "\n"
   ]
  }
 ],
 "metadata": {
  "kernelspec": {
   "display_name": "Python 3 (ipykernel)",
   "language": "python",
   "name": "python3"
  },
  "language_info": {
   "codemirror_mode": {
    "name": "ipython",
    "version": 3
   },
   "file_extension": ".py",
   "mimetype": "text/x-python",
   "name": "python",
   "nbconvert_exporter": "python",
   "pygments_lexer": "ipython3",
   "version": "3.11.5"
  }
 },
 "nbformat": 4,
 "nbformat_minor": 5
}
